{
 "cells": [
  {
   "cell_type": "markdown",
   "metadata": {},
   "source": [
    "Q-Learning Example by Robert Meyer"
   ]
  },
  {
   "cell_type": "code",
   "execution_count": 2,
   "metadata": {
    "collapsed": false
   },
   "outputs": [],
   "source": [
    "# Imports\n",
    "import numpy as np\n",
    "from numpy.random import randint\n",
    "import matplotlib.pyplot as plt\n",
    "from matplotlib import animation\n",
    "import pandas as pd\n",
    "import time\n",
    "from IPython import display"
   ]
  },
  {
   "cell_type": "code",
   "execution_count": 3,
   "metadata": {
    "collapsed": false
   },
   "outputs": [],
   "source": [
    "# Proper Matlab settings\n",
    "%matplotlib inline\n",
    "plt.rcParams[\"text.usetex\"] = False\n",
    "plt.rcParams[\"legend.numpoints\"] = 1\n",
    "plt.rcParams[\"figure.figsize\"] = (9, 7)\n",
    "plt.rcParams[\"figure.dpi\"] = 70\n",
    "plt.rcParams[\"savefig.dpi\"] = plt.rcParams[\"figure.dpi\"]\n",
    "plt.rcParams[\"font.size\"] = 17\n",
    "plt.rcParams[\"pdf.fonttype\"] = 42"
   ]
  },
  {
   "cell_type": "markdown",
   "metadata": {},
   "source": [
    "The Problem Description\n",
    "=======================\n",
    "\n",
    "We will teach an Reinforcment Learning agent to find a goal in a maze.\n",
    "The algorithm to generate the maze is taken from [Wikipedia](https://en.wikipedia.org/wiki/Maze_generation_algorithm).\n",
    "\n",
    "The maze is defined by 0s (floor) and 1s (wall).\n",
    "We will us a small 7x7 maze, but explore any size you want."
   ]
  },
  {
   "cell_type": "code",
   "execution_count": 4,
   "metadata": {
    "collapsed": false
   },
   "outputs": [],
   "source": [
    "def maze(height=51, width=81, complexity=.75, density=.75):\n",
    "    \"\"\"Generates a maze\"\"\"\n",
    "    # Only odd shapes\n",
    "    shape = ((height // 2) * 2 + 1, (width // 2) * 2 + 1)\n",
    "    # Adjust complexity and density relative to maze size\n",
    "    complexity = int(complexity * (5 * (shape[0] + shape[1])))\n",
    "    density    = int(density * ((shape[0] // 2) * (shape[1] // 2)))\n",
    "    # Build actual maze\n",
    "    Z = np.zeros(shape, dtype=int)\n",
    "    # Fill borders\n",
    "    Z[0, :] = Z[-1, :] = 1\n",
    "    Z[:, 0] = Z[:, -1] = 1\n",
    "    # Make aisles\n",
    "    for i in range(density):\n",
    "        x, y = randint(0, shape[1] // 2) * 2, randint(0, shape[0] // 2) * 2\n",
    "        Z[y, x] = 1\n",
    "        for j in range(complexity):\n",
    "            neighbours = []\n",
    "            if x > 1:             neighbours.append((y, x - 2))\n",
    "            if x < shape[1] - 2:  neighbours.append((y, x + 2))\n",
    "            if y > 1:             neighbours.append((y - 2, x))\n",
    "            if y < shape[0] - 2:  neighbours.append((y + 2, x))\n",
    "            if len(neighbours):\n",
    "                y_,x_ = neighbours[randint(0, len(neighbours))]\n",
    "                if Z[y_, x_] == 0:\n",
    "                    Z[y_, x_] = 1\n",
    "                    Z[y_ + (y - y_) // 2, x_ + (x - x_) // 2] = 1\n",
    "                    x, y = x_, y_\n",
    "    return Z\n",
    "\n",
    "\n",
    "def check(maze, state):\n",
    "    \"\"\"Checks if state can be reached (True) or if it is part of the wall (False)\"\"\"\n",
    "    if maze[state[0], state[1]] == 0:\n",
    "        return True\n",
    "    else:\n",
    "        return False\n",
    "    \n",
    "\n",
    "# Seed to generate maze\n",
    "np.random.seed(1432)\n",
    "# Create a small maze\n",
    "mymaze = maze(7, 7)\n",
    "# Define the goal area\n",
    "goal = (5, 5)\n",
    "# Sanity check that goal can be reached:\n",
    "assert check(mymaze, goal), 'Goal cannot be reached, pick another goal location!'"
   ]
  },
  {
   "cell_type": "markdown",
   "metadata": {},
   "source": [
    "Let us plot the maze and the goal area (blue star):"
   ]
  },
  {
   "cell_type": "code",
   "execution_count": 5,
   "metadata": {
    "collapsed": false
   },
   "outputs": [
    {
     "data": {
      "image/png": "[encoded data removed]",
      "text/plain": [
       "<matplotlib.figure.Figure at 0x7efcae92bb70>"
      ]
     },
     "metadata": {},
     "output_type": "display_data"
    }
   ],
   "source": [
    "def plot_maze(maze, goal):\n",
    "    plt.imshow(maze, cmap=plt.cm.binary, interpolation='nearest', origin='lower')\n",
    "    #pyplot.xticks([]), pyplot.yticks([])\n",
    "    major_xticks = np.arange(maze.shape[1])  \n",
    "    major_yticks = np.arange(mymaze.shape[0])\n",
    "    ax = plt.gca()\n",
    "    ax.set_xticks(major_xticks+0.5, minor=True)                                                       \n",
    "    ax.set_yticks(major_yticks+0.5, minor=True)   \n",
    "    plt.grid(which='minor')\n",
    "    ax.set_xticks(major_xticks)                                                       \n",
    "    ax.set_yticks(major_yticks) \n",
    "    plt.scatter(goal[1], goal[0], c='b', marker='*', s=411)\n",
    "    #plt.scatter(pos[1], pos[0], c='k', marker='x', s=299)\n",
    "    plt.xlim(-0.5, maze.shape[1]-0.5)\n",
    "    plt.ylim(-0.5, maze.shape[0]-0.5)\n",
    "    \n",
    "    \n",
    "plot_maze(mymaze, goal)"
   ]
  },
  {
   "cell_type": "markdown",
   "metadata": {},
   "source": [
    "Q-Learning\n",
    "==========\n",
    "\n",
    "We will train an agent to find the optimal path to the goal from anywhere within the maze.\n",
    "\n",
    "We will use the following Q-Learning rule:\n",
    "\\begin{align}\n",
    "Q_{t+1}(s_t,a_t) \\leftarrow r(s_t,a_t) + \\beta \\; \\max_{a'}Q_{t}(s_{t+1}, a'),\n",
    "\\end{align}\n",
    "\n",
    "where $a$ denotes an action, $s$ is a state, i.e. the agents position, $\\beta$ is the discount factor, $r$ is the reward function and $t$ marks the current time step.\n",
    "\n",
    "States are given by the row and column coordinates of the maze, for example the goal can be found at (5,5).\n",
    "\n",
    "Possible actions include \"Left\", \"Right\", \"Up\", \"Down\" and \"Stay\", i.e. not moving within a time step.\n",
    "\n",
    "We will give a reward of 100 for moving into the goal as well as staying in the goal.\n",
    "\n",
    "\n",
    "\n",
    "Initialzing the System\n",
    "----------------------\n",
    "\n",
    "We will initialize the Q-table with zeros. Note that we filter the potential actions according to the states such that the RL-agent does not bounce into a wall. For example, in state (1,5) the agent can only decide to \"Stay\", move \"Up\", or go \"Left\"."
   ]
  },
  {
   "cell_type": "code",
   "execution_count": 6,
   "metadata": {
    "collapsed": false
   },
   "outputs": [],
   "source": [
    "def init_agent(maze):\n",
    "    \"\"\"Initailizes the Q-Learning agent.\n",
    "    \n",
    "    :return:\n",
    "        1. A DataFrame containing the state transitions\n",
    "        2. A DataFrame containing the rewards for each state action pair\n",
    "                0 for most pairs but 100 for moving into and staying in the goal\n",
    "        3. The Q-Table initialized with 0 and NaN for impossible state action pairs\n",
    "        4. A dictionary containing all possible actions in each state \n",
    "            (to exclude actions that would drive the agent into a wall)\n",
    "    \"\"\"\n",
    "    # Find all reachable states (i.e. exclude all walls)\n",
    "    states = [(y,x) for x in range(maze.shape[1]) for y in range(maze.shape[0]) if maze[y,x] == 0]\n",
    "    # Define all actions in terms of their relative coordingate changes\n",
    "    actions = {'Left': (0,-1),\n",
    "               'Right': (0,1),\n",
    "               'Up': (1,0),\n",
    "               'Down': (-1,0),\n",
    "               'Stay':(0,0)}\n",
    "    \n",
    "    # Dictionary containing all possible action per state\n",
    "    state_actions = {} \n",
    "    # DataFrame mapping state action pairs to the following states\n",
    "    state_transitions = pd.DataFrame(index=states, columns=actions.keys(), dtype=object)\n",
    "    # DataFrame mapping state action pairs to the corresponding rewards\n",
    "    rewards = pd.DataFrame(index=states, columns=actions.keys(), dtype=float)\n",
    "    # DataFrame mapping state action pairs to the corresponding Q-values\n",
    "    q_table = pd.DataFrame(index=states, columns=actions.keys(), dtype=float, data=np.NaN)\n",
    "\n",
    "    # Iterate throug all state action pairs, exclude impossible actions,\n",
    "    # initialize q-values and set rewards\n",
    "    for state in states:\n",
    "        state_actions[state] = []\n",
    "        for action in sorted(actions.keys()):\n",
    "            value = actions[action]\n",
    "            new_state = (state[0] + value[0], state[1] + value[1])\n",
    "            reward=0\n",
    "            if new_state in states:\n",
    "                if new_state == goal:\n",
    "                    # Give 100 reward if action ends up in goal\n",
    "                    reward = 100\n",
    "                state_actions[state].append(action)\n",
    "                rewards.loc[state, action] = reward\n",
    "                state_transitions.loc[state, action] = new_state\n",
    "                q_table.loc[state, action] = 0\n",
    "\n",
    "    return state_transitions, rewards, q_table, state_actions"
   ]
  },
  {
   "cell_type": "markdown",
   "metadata": {},
   "source": [
    "Q-Learning Functions\n",
    "--------------------\n",
    "\n",
    "The following functions can be iteratively applied to enable Q-Learning.\n",
    "The agent needs to select a new action and then perfrom a `move`. \n",
    "Moving includes updating the Q-Table.\n",
    "\n",
    "    "
   ]
  },
  {
   "cell_type": "code",
   "execution_count": 7,
   "metadata": {
    "collapsed": false
   },
   "outputs": [],
   "source": [
    "def update_q(state, action, next_state, state_transitions, rewards, q_table, beta):\n",
    "    \"\"\"Performs one Q-Table update\"\"\"\n",
    "    reward = rewards.get_value(state, action)\n",
    "    maxQ = np.nanmax(q_table.loc[[next_state], :].values)\n",
    "    newQ = reward + beta * maxQ\n",
    "    q_table.loc[[state], action] = newQ\n",
    "    return q_table\n",
    "\n",
    "\n",
    "def select_random_action(current_state, state_actions):\n",
    "    \"\"\"Selects a random action in the `current_state`\"\"\"\n",
    "    return np.random.choice(state_actions[current_state])\n",
    "\n",
    "\n",
    "def move(current_state, action, state_transitions, rewards, q_table, beta):\n",
    "    \"\"\"Moves to the next state and updates the Q-table\"\"\"\n",
    "    next_state = state_transitions.get_value(current_state, action)\n",
    "    q_table = update_q(current_state, action, next_state, state_transitions, rewards, q_table, beta)\n",
    "    return next_state"
   ]
  },
  {
   "cell_type": "markdown",
   "metadata": {},
   "source": [
    "Plotting Progress\n",
    "-----------------\n",
    "Down below you find a helper class to plot the progress of the Q-Learner over time.\n",
    "The agent's current position is marked by a big X.\n",
    "The current best Q-Value in each state is depicted by a green circle.\n",
    "The size of the circle depends on the magnitude of the Q-value. The bigger the better!"
   ]
  },
  {
   "cell_type": "code",
   "execution_count": 8,
   "metadata": {
    "collapsed": false
   },
   "outputs": [],
   "source": [
    "class AnimationPlotter(object):\n",
    "    def __init__(self):\n",
    "        self.sc = None\n",
    "        self.scpos = None\n",
    "        self.frames = []\n",
    "        \n",
    "    def record_frame(self, maze, goal, state, action, next_state, q_table):\n",
    "        \"\"\"Records snapshots of the agents trajectory for animation\"\"\"\n",
    "        self.frames.append((maze, goal, state, action, next_state, q_table.copy()))\n",
    "\n",
    "    def plot_with_q_table(self, maze, goal, pos, q_table):\n",
    "        \"\"\"Plots a single Update Step including the Q-values\"\"\"\n",
    "        if self.sc is None:\n",
    "            plot_maze(maze, goal)\n",
    "        states = list(zip(*q_table.index.values))\n",
    "        bestQs = np.nanmax(q_table.values, axis=1)*10\n",
    "        if self.sc is None:\n",
    "            self.sc = plt.scatter(states[1], states[0], s=bestQs, c='g', alpha=0.5)\n",
    "        else:\n",
    "            self.sc._sizes = bestQs\n",
    "        \n",
    "        if self.scpos is None:\n",
    "            self.scpos = plt.scatter(pos[1], pos[0], c='k', marker='x', s=299, linewidth='3')\n",
    "            self.new=False\n",
    "        else:\n",
    "            self.scpos.set_offsets([pos[1], pos[0]])\n",
    "        \n",
    "    def _animate(self, irun, interval, end=False):\n",
    "        maze, goal, state, action, next_state, q_table = self.frames[irun]\n",
    "        self.plot_with_q_table(maze, goal, state, q_table)\n",
    "        q_value = q_table.get_value(state, action)\n",
    "        plt.title('Iteration %d, performed \"%s\" \\nwith Q-value %.2f' % (irun, action, q_value))\n",
    "        plt.pause(interval)\n",
    "        display.clear_output(wait=True)\n",
    "        if not end:\n",
    "            display.display(plt.gcf())\n",
    "        \n",
    "    def show_animation(self, interval=0.1):\n",
    "        \"\"\"Shows and animation\"\"\"\n",
    "        self.sc = None\n",
    "        self.scpos = None\n",
    "        for irun in range(len(self.frames)):\n",
    "            self._animate(irun, interval)\n",
    "        self._animate(irun, interval, end=True)"
   ]
  },
  {
   "cell_type": "markdown",
   "metadata": {},
   "source": [
    "Main Script\n",
    "-----------\n",
    "\n",
    "Below you find the main script that iteratively applies Q-learning.\n",
    "Let's first start with the initial setting:"
   ]
  },
  {
   "cell_type": "code",
   "execution_count": 9,
   "metadata": {
    "collapsed": false
   },
   "outputs": [
    {
     "data": {
      "image/png": "[encoded data removed]",
      "text/plain": [
       "<matplotlib.figure.Figure at 0x7efcae92b2b0>"
      ]
     },
     "metadata": {},
     "output_type": "display_data"
    }
   ],
   "source": [
    "# Initialize the system\n",
    "state_transitions, rewards, q_table, state_actions = init_agent(mymaze)\n",
    "# Q-Learnign Parameters\n",
    "np.random.seed(42) # Random Seed for fixed trajectory\n",
    "current_state = (5,1) # Starting Location\n",
    "beta=0.5 # Discount Factor\n",
    "steps = 200 # Number of time steps\n",
    "\n",
    "# Helper class for animation\n",
    "a = AnimationPlotter()\n",
    "# Lets see the initial state:\n",
    "a.plot_with_q_table(mymaze, goal, current_state, q_table)"
   ]
  },
  {
   "cell_type": "markdown",
   "metadata": {},
   "source": [
    "Next let's run the q-learning for a couple of steps.\n",
    "The animation is given in the next cell below."
   ]
  },
  {
   "cell_type": "code",
   "execution_count": 10,
   "metadata": {
    "collapsed": true
   },
   "outputs": [],
   "source": [
    "# Iteratively apply Q-Learning\n",
    "for irun in range(steps):\n",
    "    # Select a random action\n",
    "    action = select_random_action(current_state, state_actions)\n",
    "    # Move and upate q-table\n",
    "    next_state = move(current_state, action, state_transitions, rewards, q_table, beta)\n",
    "    \n",
    "    # Record progress and new Q-value of the state action pair\n",
    "    a.record_frame(mymaze, goal, current_state, action, next_state, q_table)\n",
    "    \n",
    "    # Update current state\n",
    "    current_state = next_state"
   ]
  },
  {
   "cell_type": "markdown",
   "metadata": {},
   "source": [
    "Let's see the animation:"
   ]
  },
  {
   "cell_type": "code",
   "execution_count": 11,
   "metadata": {
    "collapsed": false
   },
   "outputs": [
    {
     "data": {
      "image/png": "[encoded data removed]",
      "text/plain": [
       "<matplotlib.figure.Figure at 0x7efcae90c208>"
      ]
     },
     "metadata": {},
     "output_type": "display_data"
    }
   ],
   "source": [
    "a.show_animation()"
   ]
  },
  {
   "cell_type": "markdown",
   "metadata": {},
   "source": [
    "Let's take a look at the Q-table. There are still a lot of 0s in there:"
   ]
  },
  {
   "cell_type": "code",
   "execution_count": 12,
   "metadata": {
    "collapsed": false
   },
   "outputs": [
    {
     "data": {
      "text/html": [
       "<div>\n",
       "<table border=\"1\" class=\"dataframe\">\n",
       "  <thead>\n",
       "    <tr style=\"text-align: right;\">\n",
       "      <th></th>\n",
       "      <th>Right</th>\n",
       "      <th>Stay</th>\n",
       "      <th>Left</th>\n",
       "      <th>Up</th>\n",
       "      <th>Down</th>\n",
       "    </tr>\n",
       "  </thead>\n",
       "  <tbody>\n",
       "    <tr>\n",
       "      <th>(1, 1)</th>\n",
       "      <td>0.0000</td>\n",
       "      <td>0.00000</td>\n",
       "      <td>NaN</td>\n",
       "      <td>0.00000</td>\n",
       "      <td>NaN</td>\n",
       "    </tr>\n",
       "    <tr>\n",
       "      <th>(2, 1)</th>\n",
       "      <td>NaN</td>\n",
       "      <td>0.00000</td>\n",
       "      <td>NaN</td>\n",
       "      <td>0.00000</td>\n",
       "      <td>0.000000</td>\n",
       "    </tr>\n",
       "    <tr>\n",
       "      <th>(3, 1)</th>\n",
       "      <td>NaN</td>\n",
       "      <td>0.00000</td>\n",
       "      <td>NaN</td>\n",
       "      <td>NaN</td>\n",
       "      <td>0.000000</td>\n",
       "    </tr>\n",
       "    <tr>\n",
       "      <th>(5, 1)</th>\n",
       "      <td>0.0000</td>\n",
       "      <td>0.00000</td>\n",
       "      <td>NaN</td>\n",
       "      <td>NaN</td>\n",
       "      <td>NaN</td>\n",
       "    </tr>\n",
       "    <tr>\n",
       "      <th>(1, 2)</th>\n",
       "      <td>0.0000</td>\n",
       "      <td>0.00000</td>\n",
       "      <td>0.00000</td>\n",
       "      <td>NaN</td>\n",
       "      <td>NaN</td>\n",
       "    </tr>\n",
       "    <tr>\n",
       "      <th>(5, 2)</th>\n",
       "      <td>25.0000</td>\n",
       "      <td>0.00000</td>\n",
       "      <td>0.00000</td>\n",
       "      <td>NaN</td>\n",
       "      <td>NaN</td>\n",
       "    </tr>\n",
       "    <tr>\n",
       "      <th>(1, 3)</th>\n",
       "      <td>0.0000</td>\n",
       "      <td>0.00000</td>\n",
       "      <td>0.00000</td>\n",
       "      <td>NaN</td>\n",
       "      <td>NaN</td>\n",
       "    </tr>\n",
       "    <tr>\n",
       "      <th>(3, 3)</th>\n",
       "      <td>NaN</td>\n",
       "      <td>6.25000</td>\n",
       "      <td>NaN</td>\n",
       "      <td>12.50000</td>\n",
       "      <td>NaN</td>\n",
       "    </tr>\n",
       "    <tr>\n",
       "      <th>(4, 3)</th>\n",
       "      <td>NaN</td>\n",
       "      <td>12.50000</td>\n",
       "      <td>NaN</td>\n",
       "      <td>41.40625</td>\n",
       "      <td>6.250000</td>\n",
       "    </tr>\n",
       "    <tr>\n",
       "      <th>(5, 3)</th>\n",
       "      <td>82.8125</td>\n",
       "      <td>41.40625</td>\n",
       "      <td>0.00000</td>\n",
       "      <td>NaN</td>\n",
       "      <td>12.500000</td>\n",
       "    </tr>\n",
       "    <tr>\n",
       "      <th>(1, 4)</th>\n",
       "      <td>0.0000</td>\n",
       "      <td>0.00000</td>\n",
       "      <td>0.00000</td>\n",
       "      <td>NaN</td>\n",
       "      <td>NaN</td>\n",
       "    </tr>\n",
       "    <tr>\n",
       "      <th>(5, 4)</th>\n",
       "      <td>165.6250</td>\n",
       "      <td>82.81250</td>\n",
       "      <td>41.40625</td>\n",
       "      <td>NaN</td>\n",
       "      <td>NaN</td>\n",
       "    </tr>\n",
       "    <tr>\n",
       "      <th>(1, 5)</th>\n",
       "      <td>NaN</td>\n",
       "      <td>0.00000</td>\n",
       "      <td>0.00000</td>\n",
       "      <td>16.40625</td>\n",
       "      <td>NaN</td>\n",
       "    </tr>\n",
       "    <tr>\n",
       "      <th>(2, 5)</th>\n",
       "      <td>NaN</td>\n",
       "      <td>16.40625</td>\n",
       "      <td>NaN</td>\n",
       "      <td>32.81250</td>\n",
       "      <td>8.203125</td>\n",
       "    </tr>\n",
       "    <tr>\n",
       "      <th>(3, 5)</th>\n",
       "      <td>NaN</td>\n",
       "      <td>32.81250</td>\n",
       "      <td>NaN</td>\n",
       "      <td>82.81250</td>\n",
       "      <td>16.406250</td>\n",
       "    </tr>\n",
       "    <tr>\n",
       "      <th>(4, 5)</th>\n",
       "      <td>NaN</td>\n",
       "      <td>82.81250</td>\n",
       "      <td>NaN</td>\n",
       "      <td>165.62500</td>\n",
       "      <td>41.406250</td>\n",
       "    </tr>\n",
       "    <tr>\n",
       "      <th>(5, 5)</th>\n",
       "      <td>NaN</td>\n",
       "      <td>131.25000</td>\n",
       "      <td>82.81250</td>\n",
       "      <td>NaN</td>\n",
       "      <td>82.812500</td>\n",
       "    </tr>\n",
       "  </tbody>\n",
       "</table>\n",
       "</div>"
      ],
      "text/plain": [
       "           Right       Stay      Left         Up       Down\n",
       "(1, 1)    0.0000    0.00000       NaN    0.00000        NaN\n",
       "(2, 1)       NaN    0.00000       NaN    0.00000   0.000000\n",
       "(3, 1)       NaN    0.00000       NaN        NaN   0.000000\n",
       "(5, 1)    0.0000    0.00000       NaN        NaN        NaN\n",
       "(1, 2)    0.0000    0.00000   0.00000        NaN        NaN\n",
       "(5, 2)   25.0000    0.00000   0.00000        NaN        NaN\n",
       "(1, 3)    0.0000    0.00000   0.00000        NaN        NaN\n",
       "(3, 3)       NaN    6.25000       NaN   12.50000        NaN\n",
       "(4, 3)       NaN   12.50000       NaN   41.40625   6.250000\n",
       "(5, 3)   82.8125   41.40625   0.00000        NaN  12.500000\n",
       "(1, 4)    0.0000    0.00000   0.00000        NaN        NaN\n",
       "(5, 4)  165.6250   82.81250  41.40625        NaN        NaN\n",
       "(1, 5)       NaN    0.00000   0.00000   16.40625        NaN\n",
       "(2, 5)       NaN   16.40625       NaN   32.81250   8.203125\n",
       "(3, 5)       NaN   32.81250       NaN   82.81250  16.406250\n",
       "(4, 5)       NaN   82.81250       NaN  165.62500  41.406250\n",
       "(5, 5)       NaN  131.25000  82.81250        NaN  82.812500"
      ]
     },
     "execution_count": 12,
     "metadata": {},
     "output_type": "execute_result"
    }
   ],
   "source": [
    "q_table"
   ]
  },
  {
   "cell_type": "markdown",
   "metadata": {},
   "source": [
    "Let's run a couple of more iterations and plot the cumulative Q-values over time.\n",
    "They will converge eventually."
   ]
  },
  {
   "cell_type": "code",
   "execution_count": 13,
   "metadata": {
    "collapsed": false
   },
   "outputs": [
    {
     "name": "stdout",
     "output_type": "stream",
     "text": [
      " Iteration 2999, sum of q_values 1899.22"
     ]
    }
   ],
   "source": [
    "for irun in range(3000):\n",
    "    action = select_random_action(current_state, state_actions)\n",
    "    next_state = move(current_state, action, state_transitions, rewards, q_table, beta)\n",
    "    mean_q = np.nansum(q_table.values)\n",
    "    current_state = next_state\n",
    "    print('\\r Iteration %d, sum of q_values %.2f' % (irun, mean_q), end='')"
   ]
  },
  {
   "cell_type": "markdown",
   "metadata": {},
   "source": [
    "If we know look at the final state, we can spot the optimal trajectory.\n",
    "Just follow the green dots in the increasing direction to end up in the goal from anywhere in the maze:"
   ]
  },
  {
   "cell_type": "code",
   "execution_count": 14,
   "metadata": {
    "collapsed": false
   },
   "outputs": [
    {
     "data": {
      "image/png": "[encoded data removed]",
      "text/plain": [
       "<matplotlib.figure.Figure at 0x7efcabda2a58>"
      ]
     },
     "metadata": {},
     "output_type": "display_data"
    }
   ],
   "source": [
    "AnimationPlotter().plot_with_q_table(mymaze, goal, next_state, q_table)"
   ]
  },
  {
   "cell_type": "markdown",
   "metadata": {},
   "source": [
    "The corresponding Q.table is given below:"
   ]
  },
  {
   "cell_type": "code",
   "execution_count": 15,
   "metadata": {
    "collapsed": false
   },
   "outputs": [
    {
     "data": {
      "text/html": [
       "<div>\n",
       "<table border=\"1\" class=\"dataframe\">\n",
       "  <thead>\n",
       "    <tr style=\"text-align: right;\">\n",
       "      <th></th>\n",
       "      <th>Right</th>\n",
       "      <th>Stay</th>\n",
       "      <th>Left</th>\n",
       "      <th>Up</th>\n",
       "      <th>Down</th>\n",
       "    </tr>\n",
       "  </thead>\n",
       "  <tbody>\n",
       "    <tr>\n",
       "      <th>(1, 1)</th>\n",
       "      <td>1.5625</td>\n",
       "      <td>0.781250</td>\n",
       "      <td>NaN</td>\n",
       "      <td>0.390625</td>\n",
       "      <td>NaN</td>\n",
       "    </tr>\n",
       "    <tr>\n",
       "      <th>(2, 1)</th>\n",
       "      <td>NaN</td>\n",
       "      <td>0.390625</td>\n",
       "      <td>NaN</td>\n",
       "      <td>0.195312</td>\n",
       "      <td>0.781250</td>\n",
       "    </tr>\n",
       "    <tr>\n",
       "      <th>(3, 1)</th>\n",
       "      <td>NaN</td>\n",
       "      <td>0.195312</td>\n",
       "      <td>NaN</td>\n",
       "      <td>NaN</td>\n",
       "      <td>0.390625</td>\n",
       "    </tr>\n",
       "    <tr>\n",
       "      <th>(5, 1)</th>\n",
       "      <td>25.0000</td>\n",
       "      <td>12.500000</td>\n",
       "      <td>NaN</td>\n",
       "      <td>NaN</td>\n",
       "      <td>NaN</td>\n",
       "    </tr>\n",
       "    <tr>\n",
       "      <th>(1, 2)</th>\n",
       "      <td>3.1250</td>\n",
       "      <td>1.562500</td>\n",
       "      <td>0.78125</td>\n",
       "      <td>NaN</td>\n",
       "      <td>NaN</td>\n",
       "    </tr>\n",
       "    <tr>\n",
       "      <th>(5, 2)</th>\n",
       "      <td>50.0000</td>\n",
       "      <td>25.000000</td>\n",
       "      <td>12.50000</td>\n",
       "      <td>NaN</td>\n",
       "      <td>NaN</td>\n",
       "    </tr>\n",
       "    <tr>\n",
       "      <th>(1, 3)</th>\n",
       "      <td>6.2500</td>\n",
       "      <td>3.125000</td>\n",
       "      <td>1.56250</td>\n",
       "      <td>NaN</td>\n",
       "      <td>NaN</td>\n",
       "    </tr>\n",
       "    <tr>\n",
       "      <th>(3, 3)</th>\n",
       "      <td>NaN</td>\n",
       "      <td>12.500000</td>\n",
       "      <td>NaN</td>\n",
       "      <td>25.000000</td>\n",
       "      <td>NaN</td>\n",
       "    </tr>\n",
       "    <tr>\n",
       "      <th>(4, 3)</th>\n",
       "      <td>NaN</td>\n",
       "      <td>25.000000</td>\n",
       "      <td>NaN</td>\n",
       "      <td>50.000000</td>\n",
       "      <td>12.500000</td>\n",
       "    </tr>\n",
       "    <tr>\n",
       "      <th>(5, 3)</th>\n",
       "      <td>100.0000</td>\n",
       "      <td>50.000000</td>\n",
       "      <td>25.00000</td>\n",
       "      <td>NaN</td>\n",
       "      <td>25.000000</td>\n",
       "    </tr>\n",
       "    <tr>\n",
       "      <th>(1, 4)</th>\n",
       "      <td>12.5000</td>\n",
       "      <td>6.250000</td>\n",
       "      <td>3.12500</td>\n",
       "      <td>NaN</td>\n",
       "      <td>NaN</td>\n",
       "    </tr>\n",
       "    <tr>\n",
       "      <th>(5, 4)</th>\n",
       "      <td>200.0000</td>\n",
       "      <td>100.000000</td>\n",
       "      <td>50.00000</td>\n",
       "      <td>NaN</td>\n",
       "      <td>NaN</td>\n",
       "    </tr>\n",
       "    <tr>\n",
       "      <th>(1, 5)</th>\n",
       "      <td>NaN</td>\n",
       "      <td>12.500000</td>\n",
       "      <td>6.25000</td>\n",
       "      <td>25.000000</td>\n",
       "      <td>NaN</td>\n",
       "    </tr>\n",
       "    <tr>\n",
       "      <th>(2, 5)</th>\n",
       "      <td>NaN</td>\n",
       "      <td>25.000000</td>\n",
       "      <td>NaN</td>\n",
       "      <td>50.000000</td>\n",
       "      <td>12.500000</td>\n",
       "    </tr>\n",
       "    <tr>\n",
       "      <th>(3, 5)</th>\n",
       "      <td>NaN</td>\n",
       "      <td>50.000000</td>\n",
       "      <td>NaN</td>\n",
       "      <td>100.000000</td>\n",
       "      <td>25.000000</td>\n",
       "    </tr>\n",
       "    <tr>\n",
       "      <th>(4, 5)</th>\n",
       "      <td>NaN</td>\n",
       "      <td>100.000000</td>\n",
       "      <td>NaN</td>\n",
       "      <td>200.000000</td>\n",
       "      <td>50.000000</td>\n",
       "    </tr>\n",
       "    <tr>\n",
       "      <th>(5, 5)</th>\n",
       "      <td>NaN</td>\n",
       "      <td>200.000000</td>\n",
       "      <td>100.00000</td>\n",
       "      <td>NaN</td>\n",
       "      <td>100.000000</td>\n",
       "    </tr>\n",
       "  </tbody>\n",
       "</table>\n",
       "</div>"
      ],
      "text/plain": [
       "           Right        Stay       Left          Up        Down\n",
       "(1, 1)    1.5625    0.781250        NaN    0.390625         NaN\n",
       "(2, 1)       NaN    0.390625        NaN    0.195312    0.781250\n",
       "(3, 1)       NaN    0.195312        NaN         NaN    0.390625\n",
       "(5, 1)   25.0000   12.500000        NaN         NaN         NaN\n",
       "(1, 2)    3.1250    1.562500    0.78125         NaN         NaN\n",
       "(5, 2)   50.0000   25.000000   12.50000         NaN         NaN\n",
       "(1, 3)    6.2500    3.125000    1.56250         NaN         NaN\n",
       "(3, 3)       NaN   12.500000        NaN   25.000000         NaN\n",
       "(4, 3)       NaN   25.000000        NaN   50.000000   12.500000\n",
       "(5, 3)  100.0000   50.000000   25.00000         NaN   25.000000\n",
       "(1, 4)   12.5000    6.250000    3.12500         NaN         NaN\n",
       "(5, 4)  200.0000  100.000000   50.00000         NaN         NaN\n",
       "(1, 5)       NaN   12.500000    6.25000   25.000000         NaN\n",
       "(2, 5)       NaN   25.000000        NaN   50.000000   12.500000\n",
       "(3, 5)       NaN   50.000000        NaN  100.000000   25.000000\n",
       "(4, 5)       NaN  100.000000        NaN  200.000000   50.000000\n",
       "(5, 5)       NaN  200.000000  100.00000         NaN  100.000000"
      ]
     },
     "execution_count": 15,
     "metadata": {},
     "output_type": "execute_result"
    }
   ],
   "source": [
    "q_table"
   ]
  },
  {
   "cell_type": "code",
   "execution_count": null,
   "metadata": {
    "collapsed": true
   },
   "outputs": [],
   "source": []
  }
 ],
 "metadata": {
  "anaconda-cloud": {},
  "kernelspec": {
   "display_name": "Python [Root]",
   "language": "python",
   "name": "Python [Root]"
  },
  "language_info": {
   "codemirror_mode": {
    "name": "ipython",
    "version": 3
   },
   "file_extension": ".py",
   "mimetype": "text/x-python",
   "name": "python",
   "nbconvert_exporter": "python",
   "pygments_lexer": "ipython3",
   "version": "3.5.2"
  }
 },
 "nbformat": 4,
 "nbformat_minor": 0
}
